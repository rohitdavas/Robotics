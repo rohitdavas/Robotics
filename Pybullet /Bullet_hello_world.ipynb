{
  "nbformat": 4,
  "nbformat_minor": 0,
  "metadata": {
    "colab": {
      "name": "Bullet hello world.ipynb",
      "version": "0.3.2",
      "provenance": [],
      "collapsed_sections": [],
      "include_colab_link": true
    },
    "kernelspec": {
      "name": "python3",
      "display_name": "Python 3"
    },
    "accelerator": "GPU"
  },
  "cells": [
    {
      "cell_type": "markdown",
      "metadata": {
        "id": "view-in-github",
        "colab_type": "text"
      },
      "source": [
        "<a href=\"https://colab.research.google.com/github/Rohit-ChoudharyGit/Pybullet/blob/master/Bullet_hello_world.ipynb\" target=\"_parent\"><img src=\"https://colab.research.google.com/assets/colab-badge.svg\" alt=\"Open In Colab\"/></a>"
      ]
    },
    {
      "metadata": {
        "id": "uG7ek-Jvn4Ny",
        "colab_type": "text"
      },
      "cell_type": "markdown",
      "source": [
        "1.   Install pybullet using the command \n",
        "2.   https://pybullet.org/wordpress/ \n",
        "3. now import it as library\n",
        "4.import time also\n",
        "\n",
        "5. now the important thing->>> data . `Import pybullet_data`"
      ]
    },
    {
      "metadata": {
        "id": "r2RBzsD9aO08",
        "colab_type": "code",
        "outputId": "cff0e5c5-c701-4187-d324-be255f6e59f5",
        "colab": {
          "base_uri": "https://localhost:8080/",
          "height": 173
        }
      },
      "cell_type": "code",
      "source": [
        "!pip install -U pybullet"
      ],
      "execution_count": 3,
      "outputs": [
        {
          "output_type": "stream",
          "text": [
            "Collecting pybullet\n",
            "\u001b[?25l  Downloading https://files.pythonhosted.org/packages/40/a4/42d502e01f64140666144cbdca9cd909cd03f0e62b4c0d5f76a591e2a1e8/pybullet-2.4.8.tar.gz (39.9MB)\n",
            "\u001b[K    100% |████████████████████████████████| 39.9MB 1.2MB/s \n",
            "\u001b[?25hBuilding wheels for collected packages: pybullet\n",
            "  Building wheel for pybullet (setup.py) ... \u001b[?25ldone\n",
            "\u001b[?25h  Stored in directory: /root/.cache/pip/wheels/85/3d/c6/80e5ee17f58abd5e4d7b8ef9e6c5b101ae8863de15cb989409\n",
            "Successfully built pybullet\n",
            "Installing collected packages: pybullet\n",
            "Successfully installed pybullet-2.4.8\n"
          ],
          "name": "stdout"
        }
      ]
    },
    {
      "metadata": {
        "id": "9zkhdZsUbNPn",
        "colab_type": "code",
        "colab": {}
      },
      "cell_type": "code",
      "source": [
        "import pybullet as p\n",
        "import time\n",
        "import pybullet_data"
      ],
      "execution_count": 0,
      "outputs": []
    },
    {
      "metadata": {
        "id": "3llzn58WuZVO",
        "colab_type": "text"
      },
      "cell_type": "markdown",
      "source": [
        "add the physics client . there can be two, choose accordingly "
      ]
    },
    {
      "metadata": {
        "id": "-KV5I_6QbWh-",
        "colab_type": "code",
        "colab": {}
      },
      "cell_type": "code",
      "source": [
        "physicsClient = p.connect(p.DIRECT)    #p.DIRECT for non-graphical version # p.GUI for graphical version"
      ],
      "execution_count": 0,
      "outputs": []
    },
    {
      "metadata": {
        "id": "fUh9t-tsukrw",
        "colab_type": "text"
      },
      "cell_type": "markdown",
      "source": [
        "we need to add data, either we can add ours or use the data given by `pybullet_data.getDataPath()`"
      ]
    },
    {
      "metadata": {
        "id": "tRST5A_Fr_zZ",
        "colab_type": "code",
        "colab": {}
      },
      "cell_type": "code",
      "source": [
        "p.setAdditionalSearchPath(pybullet_data.getDataPath()) #optionally to use pybullet data "
      ],
      "execution_count": 0,
      "outputs": []
    },
    {
      "metadata": {
        "id": "Z8gXA1a1u1ni",
        "colab_type": "text"
      },
      "cell_type": "markdown",
      "source": [
        "Set the gravity of the field according, default there is no gravity."
      ]
    },
    {
      "metadata": {
        "id": "J_O9yceLuFpv",
        "colab_type": "code",
        "colab": {}
      },
      "cell_type": "code",
      "source": [
        "p.setGravity(0,0,-10)"
      ],
      "execution_count": 0,
      "outputs": []
    },
    {
      "metadata": {
        "id": "Gtwd7VY8yHGu",
        "colab_type": "text"
      },
      "cell_type": "markdown",
      "source": [
        "**defining the plane**"
      ]
    },
    {
      "metadata": {
        "id": "7DKaVs6gtm8Q",
        "colab_type": "code",
        "colab": {}
      },
      "cell_type": "code",
      "source": [
        "planeId = p.loadURDF(\"plane.urdf\")"
      ],
      "execution_count": 0,
      "outputs": []
    },
    {
      "metadata": {
        "id": "5L4L8ptKyM7z",
        "colab_type": "text"
      },
      "cell_type": "markdown",
      "source": [
        "define the cube start position"
      ]
    },
    {
      "metadata": {
        "id": "t53Iz8YHvFHX",
        "colab_type": "code",
        "colab": {}
      },
      "cell_type": "code",
      "source": [
        "cubeStartPos = [0,0,1]"
      ],
      "execution_count": 0,
      "outputs": []
    },
    {
      "metadata": {
        "id": "MCfsJ-0byQS8",
        "colab_type": "text"
      },
      "cell_type": "markdown",
      "source": [
        "define the cube start orientation"
      ]
    },
    {
      "metadata": {
        "id": "3qI7ohpFvQZD",
        "colab_type": "code",
        "colab": {}
      },
      "cell_type": "code",
      "source": [
        "cubeStartOrientation = p.getQuaternionFromEuler([0,0,0])"
      ],
      "execution_count": 0,
      "outputs": []
    },
    {
      "metadata": {
        "id": "xzcsw263yTvP",
        "colab_type": "text"
      },
      "cell_type": "markdown",
      "source": [
        "**define the boxid**"
      ]
    },
    {
      "metadata": {
        "id": "Vr5Mc8tcv2GI",
        "colab_type": "code",
        "colab": {}
      },
      "cell_type": "code",
      "source": [
        "boxId = p.loadURDF(\"r2d2.urdf\", cubeStartPos, cubeStartOrientation)"
      ],
      "execution_count": 0,
      "outputs": []
    },
    {
      "metadata": {
        "id": "EpVa1etXyZyo",
        "colab_type": "text"
      },
      "cell_type": "markdown",
      "source": [
        "**train the step simulation in pybullet**"
      ]
    },
    {
      "metadata": {
        "id": "okVOP7Wlwhno",
        "colab_type": "code",
        "colab": {}
      },
      "cell_type": "code",
      "source": [
        "for i in range (10000):\n",
        "    p.stepSimulation()\n",
        "    time.sleep(1./240.)"
      ],
      "execution_count": 0,
      "outputs": []
    },
    {
      "metadata": {
        "id": "wu37TMZKygjG",
        "colab_type": "text"
      },
      "cell_type": "markdown",
      "source": [
        "now get the cube pos, and orienation"
      ]
    },
    {
      "metadata": {
        "id": "AFDnR2a1wyMR",
        "colab_type": "code",
        "colab": {}
      },
      "cell_type": "code",
      "source": [
        "cubePos, cubeOrn = p.getBasePositionAndOrientation(boxId)"
      ],
      "execution_count": 0,
      "outputs": []
    },
    {
      "metadata": {
        "id": "MlmNO292yogb",
        "colab_type": "text"
      },
      "cell_type": "markdown",
      "source": [
        "get to see it ."
      ]
    },
    {
      "metadata": {
        "id": "cbA_k2aAw1C-",
        "colab_type": "code",
        "colab": {
          "base_uri": "https://localhost:8080/",
          "height": 54
        },
        "outputId": "24d89c0a-20f2-49db-db96-ad1e5110e934"
      },
      "cell_type": "code",
      "source": [
        "print(cubePos,cubeOrn)"
      ],
      "execution_count": 15,
      "outputs": [
        {
          "output_type": "stream",
          "text": [
            "(-9.43500941101415e-06, 0.003532865052158235, 0.47082233035789567) (-1.0519752995545728e-05, 1.9444743777249017e-06, -5.992813757445351e-05, 0.9999999981470861)\n"
          ],
          "name": "stdout"
        }
      ]
    },
    {
      "metadata": {
        "id": "cZJsTnBnyrZy",
        "colab_type": "text"
      },
      "cell_type": "markdown",
      "source": [
        "disconnect from the physics server ."
      ]
    },
    {
      "metadata": {
        "id": "gaBenEBBw7by",
        "colab_type": "code",
        "colab": {}
      },
      "cell_type": "code",
      "source": [
        "p.disconnect()"
      ],
      "execution_count": 0,
      "outputs": []
    }
  ]
}